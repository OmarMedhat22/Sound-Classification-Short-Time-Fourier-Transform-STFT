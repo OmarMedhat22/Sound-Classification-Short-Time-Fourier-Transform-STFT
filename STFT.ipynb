{
 "cells": [
  {
   "cell_type": "code",
   "execution_count": 1,
   "metadata": {},
   "outputs": [
    {
     "name": "stderr",
     "output_type": "stream",
     "text": [
      "Using TensorFlow backend.\n"
     ]
    }
   ],
   "source": [
    "import numpy as np\n",
    "import matplotlib.pyplot as plt\n",
    "import librosa.display\n",
    "import pylab\n",
    "from sklearn.model_selection import train_test_split\n",
    "from sklearn.metrics import accuracy_score\n",
    "import librosa    \n",
    "import glob\n",
    "import tensorflow as tf\n",
    "from tensorflow.keras.preprocessing.image import ImageDataGenerator\n",
    "from tensorflow.keras.models import Sequential\n",
    "from tensorflow.keras.layers import Dense, Dropout, Activation, Flatten\n",
    "from tensorflow.keras.layers import Conv2D, MaxPooling2D\n",
    "from keras.utils import to_categorical\n",
    "from keras import optimizers\n",
    "import keras\n",
    "\n",
    "%matplotlib inline"
   ]
  },
  {
   "cell_type": "code",
   "execution_count": 2,
   "metadata": {},
   "outputs": [],
   "source": [
    "audio_data = []\n",
    "labels = []\n",
    "sampling_rate = []\n",
    "file_names = []\n"
   ]
  },
  {
   "cell_type": "code",
   "execution_count": 3,
   "metadata": {},
   "outputs": [
    {
     "name": "stdout",
     "output_type": "stream",
     "text": [
      "(220000,)\n",
      "44000\n"
     ]
    }
   ],
   "source": [
    "data, samplerate = librosa.load(\"dataset/dog/1-30344-A.wav\", sr=44000) \n",
    "print(data.shape)\n",
    "print(samplerate)\n"
   ]
  },
  {
   "cell_type": "code",
   "execution_count": 4,
   "metadata": {},
   "outputs": [
    {
     "name": "stdout",
     "output_type": "stream",
     "text": [
      "5.0\n",
      "2.2727272727272726e-05\n",
      "176000.0\n"
     ]
    }
   ],
   "source": [
    "time_sec = (len(data)/samplerate)\n",
    "step = time_sec/len(data)\n",
    "print(time_sec)\n",
    "print(step)\n",
    "i=0\n",
    "time_divion=[]\n",
    "while i<=time_sec-step:\n",
    "    \n",
    "    time_divion.append(i)\n",
    "    i=i+step\n",
    "# the fourth second step\n",
    "four_sec_step_number = (4*len(time_divion))/time_sec\n",
    "print(four_sec_step_number)"
   ]
  },
  {
   "cell_type": "code",
   "execution_count": 5,
   "metadata": {},
   "outputs": [
    {
     "name": "stdout",
     "output_type": "stream",
     "text": [
      "['004 - Baby cry', '005 - Clock tick', '006 - Person sneeze', '007 - Helicopter', '008 - Chainsaw', '009 - Rooster', '010 - Fire crackling', 'dog', 'rain', 'sea']\n",
      "the class = 004 - Baby cry, the label = 0\n",
      "the class = 005 - Clock tick, the label = 1\n",
      "the class = 006 - Person sneeze, the label = 2\n",
      "the class = 007 - Helicopter, the label = 3\n",
      "the class = 008 - Chainsaw, the label = 4\n",
      "the class = 009 - Rooster, the label = 5\n",
      "the class = 010 - Fire crackling, the label = 6\n",
      "the class = dog, the label = 7\n",
      "the class = rain, the label = 8\n",
      "the class = sea, the label = 9\n",
      "0\n"
     ]
    }
   ],
   "source": [
    "classes = []\n",
    "label_number=0\n",
    "audio_data = []\n",
    "labels = []\n",
    "sampling_rate = []\n",
    "file_names = []\n",
    "data = []\n",
    "noisy_removed=[]\n",
    "noise=[]\n",
    "for filepath in glob.iglob('dataset/*'):\n",
    "    \n",
    "    #print(filepath[9:])\n",
    "    \n",
    "    #print(filepath)\n",
    "    classes.append(filepath[8:])\n",
    "\n",
    "print(classes)\n",
    "\n",
    "for i in classes:\n",
    "    print(\"the class = \"+i+\", the label = \"+str(label_number))\n",
    "    for j in glob.iglob('dataset/'+i+'/*'):\n",
    "        #samplerate, data = wavfile.read(j)\n",
    "        y, s = librosa.load(j, sr=44000) # Downsample 44.1kHz to 8kHz\n",
    "        #reduced_noise = nr.reduce_noise(audio_clip=y, noise_clip=y, verbose=False)\n",
    "        #print(s)\n",
    "        #print(j)\n",
    "        data.append([y,label_number])\n",
    "        #noise.append(y)\n",
    "        #labels.append(label_number)\n",
    "        \n",
    "    label_number = label_number + 1\n",
    "print(len(labels))\n",
    "#print(labels)\n"
   ]
  },
  {
   "cell_type": "code",
   "execution_count": 6,
   "metadata": {},
   "outputs": [],
   "source": [
    "import random\n",
    "\n",
    "random.shuffle(data)\n",
    "\n",
    "for i,j in data:\n",
    "    audio_data.append(i)\n",
    "    labels.append(j)\n",
    "    \n"
   ]
  },
  {
   "cell_type": "code",
   "execution_count": 7,
   "metadata": {},
   "outputs": [
    {
     "name": "stdout",
     "output_type": "stream",
     "text": [
      "7\n"
     ]
    }
   ],
   "source": [
    "print(labels[0])"
   ]
  },
  {
   "cell_type": "code",
   "execution_count": 8,
   "metadata": {},
   "outputs": [],
   "source": [
    "example = random.randint(0,400)\n"
   ]
  },
  {
   "cell_type": "code",
   "execution_count": 9,
   "metadata": {},
   "outputs": [
    {
     "data": {
      "text/plain": [
       "Text(0.5,1,'signal in real time')"
      ]
     },
     "execution_count": 9,
     "metadata": {},
     "output_type": "execute_result"
    },
    {
     "data": {
      "image/png": "[encoded data removed]",
      "text/plain": [
       "<Figure size 432x288 with 1 Axes>"
      ]
     },
     "metadata": {
      "needs_background": "light"
     },
     "output_type": "display_data"
    }
   ],
   "source": [
    "save_path='Helicopter_before.jpg'\n",
    "plt.plot(time_divion[0:192000],audio_data[example][0:192000])\n",
    "#plt.show()\n",
    "plt.title('signal in real time')\n",
    "#pylab.savefig(save_path, bbox_inches=None, pad_inches=0)\n",
    "#pylab.close()\n"
   ]
  },
  {
   "cell_type": "code",
   "execution_count": 10,
   "metadata": {},
   "outputs": [
    {
     "name": "stdout",
     "output_type": "stream",
     "text": [
      "(1025, 430)\n",
      "5\n"
     ]
    }
   ],
   "source": [
    "freq = librosa.amplitude_to_db(np.abs(librosa.stft(audio_data[example])), ref=np.max)\n",
    "mfcc = librosa.feature.mfcc(y=audio_data[example])\n",
    "print(freq.shape)\n",
    "print(labels[example])"
   ]
  },
  {
   "cell_type": "code",
   "execution_count": 11,
   "metadata": {},
   "outputs": [
    {
     "data": {
      "text/plain": [
       "346"
      ]
     },
     "execution_count": 11,
     "metadata": {},
     "output_type": "execute_result"
    }
   ],
   "source": [
    "example"
   ]
  },
  {
   "cell_type": "code",
   "execution_count": 12,
   "metadata": {},
   "outputs": [
    {
     "data": {
      "text/plain": [
       "Text(0.5,1,'short time fourier transform')"
      ]
     },
     "execution_count": 12,
     "metadata": {},
     "output_type": "execute_result"
    },
    {
     "data": {
      "image/png": "[encoded data removed]",
      "text/plain": [
       "<Figure size 432x288 with 2 Axes>"
      ]
     },
     "metadata": {
      "needs_background": "light"
     },
     "output_type": "display_data"
    }
   ],
   "source": [
    "save_path = 'Helicopter.jpg'\n",
    "\n",
    "plt.axis('off') # no axis\n",
    "librosa.display.specshow(freq)\n",
    "plt.colorbar(format='%+2.0f dB')\n",
    "plt.title('short time fourier transform')\n",
    "#pylab.savefig(save_path, bbox_inches=None, pad_inches=0)\n",
    "#pylab.close()"
   ]
  },
  {
   "cell_type": "code",
   "execution_count": null,
   "metadata": {},
   "outputs": [],
   "source": []
  },
  {
   "cell_type": "code",
   "execution_count": 19,
   "metadata": {},
   "outputs": [
    {
     "name": "stdout",
     "output_type": "stream",
     "text": [
      "0\n",
      "100\n",
      "200\n",
      "300\n"
     ]
    },
    {
     "data": {
      "text/plain": [
       "(400, 437675, 1)"
      ]
     },
     "execution_count": 19,
     "metadata": {},
     "output_type": "execute_result"
    }
   ],
   "source": [
    "stft = []\n",
    "for i in range (0,400):\n",
    "    if i%100 == 0:\n",
    "        print(i)\n",
    "    freq = librosa.amplitude_to_db(np.abs(librosa.stft(audio_data[i])), ref=np.max)\n",
    "\n",
    "    #freq = np.abs(librosa.stft(audio_data[i], n_fft=512, hop_length=256, win_length=512))\n",
    "\n",
    "    freq=freq.reshape(-1,1)\n",
    "    #print(freq.shape)\n",
    "  \n",
    "\n",
    "    stft.append(freq[:437675])\n",
    "    if freq.shape[0]<437675:\n",
    "        print(freq.shape)\n",
    "    \n",
    "stft =np.array(stft) \n",
    "stft.shape\n",
    "    "
   ]
  },
  {
   "cell_type": "code",
   "execution_count": null,
   "metadata": {},
   "outputs": [],
   "source": []
  },
  {
   "cell_type": "code",
   "execution_count": 20,
   "metadata": {},
   "outputs": [
    {
     "data": {
      "text/plain": [
       "(400, 437675)"
      ]
     },
     "execution_count": 20,
     "metadata": {},
     "output_type": "execute_result"
    }
   ],
   "source": [
    "stft=stft.reshape(400,-1)\n",
    "stft.shape"
   ]
  },
  {
   "cell_type": "code",
   "execution_count": null,
   "metadata": {},
   "outputs": [],
   "source": []
  },
  {
   "cell_type": "code",
   "execution_count": 25,
   "metadata": {},
   "outputs": [
    {
     "name": "stdout",
     "output_type": "stream",
     "text": [
      "0.0\n",
      "0.0\n"
     ]
    }
   ],
   "source": [
    "from sklearn.preprocessing import MinMaxScaler\n",
    "scaler = MinMaxScaler(feature_range=(0, 1))\n",
    "scaler.fit(stft)\n",
    "\n",
    "normalized_stft = scaler.transform(stft)\n",
    "\n",
    "print(np.amax(stft))\n",
    "print(np.amax(normalized_stft))"
   ]
  },
  {
   "cell_type": "code",
   "execution_count": 15,
   "metadata": {},
   "outputs": [
    {
     "data": {
      "text/plain": [
       "DecisionTreeClassifier(class_weight=None, criterion='gini', max_depth=None,\n",
       "            max_features=None, max_leaf_nodes=None,\n",
       "            min_impurity_decrease=0.0, min_impurity_split=None,\n",
       "            min_samples_leaf=1, min_samples_split=2,\n",
       "            min_weight_fraction_leaf=0.0, presort=False, random_state=None,\n",
       "            splitter='best')"
      ]
     },
     "execution_count": 15,
     "metadata": {},
     "output_type": "execute_result"
    }
   ],
   "source": [
    "from sklearn import tree\n",
    "X_train, X_test, y_train, y_test = train_test_split(stft, labels, test_size=0.20, random_state=1150)\n",
    "clf = tree.DecisionTreeClassifier()\n",
    "clf.fit(X_train, y_train)"
   ]
  },
  {
   "cell_type": "code",
   "execution_count": 16,
   "metadata": {},
   "outputs": [
    {
     "name": "stdout",
     "output_type": "stream",
     "text": [
      "0.0625\n"
     ]
    }
   ],
   "source": [
    "y_pred = clf.predict(X_test)\n",
    "print(accuracy_score(y_test, y_pred))"
   ]
  },
  {
   "cell_type": "code",
   "execution_count": 32,
   "metadata": {},
   "outputs": [],
   "source": [
    "features_convolution = np.reshape(normalized_stft,(400,1025, -1,1))"
   ]
  },
  {
   "cell_type": "code",
   "execution_count": 36,
   "metadata": {},
   "outputs": [],
   "source": [
    "y=keras.utils.to_categorical(labels, num_classes=10, dtype='float32')\n"
   ]
  },
  {
   "cell_type": "code",
   "execution_count": 34,
   "metadata": {},
   "outputs": [],
   "source": [
    "model = Sequential()\n",
    "\n",
    "model.add(Conv2D(16, (3, 3), input_shape=features_convolution.shape[1:]))\n",
    "model.add(Activation('relu'))\n",
    "model.add(MaxPooling2D(pool_size=(2, 2)))\n",
    "#'''\n",
    "#model.add(Dropout(0.2))\n",
    "\n",
    "model.add(Conv2D(32, (3, 3)))\n",
    "model.add(Activation('relu'))\n",
    "model.add(MaxPooling2D(pool_size=(2, 2)))\n",
    "\n",
    "#model.add(Dropout(0.2))\n",
    "\n",
    "#'''\n",
    "#'''\n",
    "model.add(Conv2D(64, (3, 3),padding='same'))\n",
    "model.add(Activation('relu'))\n",
    "model.add(MaxPooling2D(pool_size=(2, 2)))\n",
    "#'''\n",
    "\n",
    "\n",
    "model.add(Flatten())  # this converts our 3D feature maps to 1D feature vectors\n",
    "\n",
    "#model.add(Dense(1000))#input_shape=features.shape[1:]\n",
    "model.add(Dense(64))#input_shape=features.shape[1:]\n",
    "\n",
    "model.add(Dense(10))\n",
    "model.add(Activation('softmax'))\n",
    "sgd = optimizers.SGD(lr=0.0000001, decay=1e-6, momentum=0.9, nesterov=True)\n",
    "\n",
    "model.compile(loss='categorical_crossentropy',\n",
    "              optimizer='adam',\n",
    "              metrics=['accuracy'])"
   ]
  },
  {
   "cell_type": "code",
   "execution_count": null,
   "metadata": {},
   "outputs": [
    {
     "name": "stdout",
     "output_type": "stream",
     "text": [
      "Train on 320 samples, validate on 80 samples\n",
      "Epoch 1/40\n",
      "320/320 [==============================] - 201s 629ms/step - loss: 2.3042 - acc: 0.0594 - val_loss: 2.3040 - val_acc: 0.0750\n",
      "Epoch 2/40\n",
      "320/320 [==============================] - 182s 569ms/step - loss: 2.3035 - acc: 0.0750 - val_loss: 2.3062 - val_acc: 0.0875\n",
      "Epoch 3/40\n",
      "320/320 [==============================] - 198s 618ms/step - loss: 2.3031 - acc: 0.0969 - val_loss: 2.3076 - val_acc: 0.0750\n",
      "Epoch 4/40\n",
      "320/320 [==============================] - 196s 613ms/step - loss: 2.3029 - acc: 0.1063 - val_loss: 2.3092 - val_acc: 0.0750\n",
      "Epoch 5/40\n",
      "320/320 [==============================] - 196s 611ms/step - loss: 2.3025 - acc: 0.1063 - val_loss: 2.3108 - val_acc: 0.0750\n",
      "Epoch 6/40\n",
      "120/320 [==========>...................] - ETA: 1:52 - loss: 2.2998 - acc: 0.1333"
     ]
    }
   ],
   "source": [
    "history = model.fit(features_convolution, y,batch_size=8, epochs=40,validation_split=0.2)"
   ]
  },
  {
   "cell_type": "code",
   "execution_count": null,
   "metadata": {},
   "outputs": [],
   "source": [
    "import matplotlib.pyplot as plt\n",
    "acc = history.history['acc']\n",
    "val_acc = history.history['val_acc']\n",
    "loss = history.history['loss']\n",
    "val_loss = history.history['val_loss']\n",
    "\n",
    "epochs = range(len(acc))\n",
    "\n",
    "plt.plot(epochs, acc, 'r', label='Training accuracy')\n",
    "plt.plot(epochs, val_acc, 'b', label='Validation accuracy')\n",
    "plt.title('Training and validation accuracy')\n",
    "plt.legend(loc=0)\n",
    "plt.figure()\n",
    "\n",
    "\n",
    "plt.show()"
   ]
  },
  {
   "cell_type": "code",
   "execution_count": null,
   "metadata": {},
   "outputs": [],
   "source": []
  },
  {
   "cell_type": "code",
   "execution_count": null,
   "metadata": {},
   "outputs": [],
   "source": []
  },
  {
   "cell_type": "code",
   "execution_count": null,
   "metadata": {},
   "outputs": [],
   "source": []
  }
 ],
 "metadata": {
  "kernelspec": {
   "display_name": "Python 3",
   "language": "python",
   "name": "python3"
  },
  "language_info": {
   "codemirror_mode": {
    "name": "ipython",
    "version": 3
   },
   "file_extension": ".py",
   "mimetype": "text/x-python",
   "name": "python",
   "nbconvert_exporter": "python",
   "pygments_lexer": "ipython3",
   "version": "3.6.6"
  }
 },
 "nbformat": 4,
 "nbformat_minor": 2
}
